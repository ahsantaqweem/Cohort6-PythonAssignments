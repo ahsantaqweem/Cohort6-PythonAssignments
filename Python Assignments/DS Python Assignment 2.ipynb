{
 "cells": [
  {
   "cell_type": "markdown",
   "id": "810d9906",
   "metadata": {},
   "source": [
    "### [Question 1]\n",
    "\n",
    "The factorial of a number is as follows:\n",
    "\n",
    "factorial of 0 i.e. 0! is 1 <br>\n",
    "factorial of 1 i.e. 1! is 1 <br>\n",
    "factorial of 2 i.e. 2! is 2x1 <br>\n",
    "factorial of 3 i.e. 3! is 3x2x1 <br>\n",
    "factorial of 7 i.e. 7! is 7x6x5x4x3x2x1 <br>"
   ]
  },
  {
   "cell_type": "markdown",
   "id": "0e988127",
   "metadata": {},
   "source": [
    "1a) Write a program using a FOR loop to find the factorial of num and print out the result at the end"
   ]
  },
  {
   "cell_type": "code",
   "execution_count": 1,
   "id": "c9cc8905",
   "metadata": {},
   "outputs": [
    {
     "name": "stdout",
     "output_type": "stream",
     "text": [
      "Factorial of 10! is 3628800.\n"
     ]
    }
   ],
   "source": [
    "num = 10\n",
    "factorial = 1\n",
    "#write your for loop program below and only print out the result of num! at the en\n",
    "\n",
    "for i in range(1,num+1):\n",
    "    \n",
    "    factorial = factorial*i\n",
    "\n",
    "print(f\"Factorial of {num}! is {factorial}.\")"
   ]
  },
  {
   "cell_type": "markdown",
   "id": "44f66db7",
   "metadata": {},
   "source": [
    "1b) Now rewrite the program using a WHILE loop"
   ]
  },
  {
   "cell_type": "code",
   "execution_count": 2,
   "id": "4aa305a6",
   "metadata": {},
   "outputs": [
    {
     "name": "stdout",
     "output_type": "stream",
     "text": [
      "Factorial of 10! is 3628800.\n"
     ]
    }
   ],
   "source": [
    "num = 10\n",
    "factorial = 1\n",
    "\n",
    "while num in range(1,num+1):\n",
    "    factorial = factorial * num\n",
    "    num -= 1\n",
    "    \n",
    "print(f\"Factorial of {10}! is {factorial}.\")"
   ]
  },
  {
   "cell_type": "code",
   "execution_count": 3,
   "id": "afd61d48",
   "metadata": {},
   "outputs": [
    {
     "name": "stdout",
     "output_type": "stream",
     "text": [
      "Factorial of 10! is 3628800.\n"
     ]
    }
   ],
   "source": [
    "num = 10\n",
    "factorial = 1\n",
    "i = 1 \n",
    "#write your while loop program below and only print out the result of num! at the end\n",
    "while i <= num:\n",
    "    factorial = i*factorial\n",
    "    i += 1\n",
    "\n",
    "print(f\"Factorial of {num}! is {factorial}.\")"
   ]
  },
  {
   "cell_type": "markdown",
   "id": "1b21d24b",
   "metadata": {},
   "source": [
    "1c) Convert either one of the above programs into a function called **factorial()** that takes in a number and returns its factorial."
   ]
  },
  {
   "cell_type": "code",
   "execution_count": 4,
   "id": "9877e5f2",
   "metadata": {},
   "outputs": [],
   "source": [
    "#write your function below\n",
    "\n",
    "def factorial(num):\n",
    "    \n",
    "    factorial = 1\n",
    "    \n",
    "    for i in range(1,num+1):\n",
    "    \n",
    "        factorial = factorial*i\n",
    "\n",
    "    return(f\"Factorial of {num}! is {factorial}.\")"
   ]
  },
  {
   "cell_type": "markdown",
   "id": "42a69fd4",
   "metadata": {},
   "source": [
    "1d) Call this factorial function on the numbers 0, 1, 8 and 10 and print each result (no need to store in variables). Is your function working fine for 0! and 1! ?"
   ]
  },
  {
   "cell_type": "code",
   "execution_count": 5,
   "id": "18e1c668",
   "metadata": {},
   "outputs": [
    {
     "name": "stdout",
     "output_type": "stream",
     "text": [
      "Factorial of 0! is 1.\n",
      "Factorial of 1! is 1.\n",
      "Factorial of 8! is 40320.\n",
      "Factorial of 10! is 3628800.\n"
     ]
    }
   ],
   "source": [
    "print(factorial(0))\n",
    "print(factorial(1))\n",
    "print(factorial(8))\n",
    "print(factorial(10))"
   ]
  },
  {
   "cell_type": "markdown",
   "id": "933bcc06",
   "metadata": {},
   "source": [
    "1e) Call factorial on the number 6 and store its result in a variable called factorial_6. Print factorial_6"
   ]
  },
  {
   "cell_type": "code",
   "execution_count": 6,
   "id": "5950064e",
   "metadata": {},
   "outputs": [
    {
     "name": "stdout",
     "output_type": "stream",
     "text": [
      "Factorial of 6! is 720.\n"
     ]
    }
   ],
   "source": [
    "factorial_6 = factorial(6)\n",
    "\n",
    "print(factorial_6)"
   ]
  },
  {
   "cell_type": "markdown",
   "id": "b4e4f783",
   "metadata": {},
   "source": [
    "### [Question 2]"
   ]
  },
  {
   "cell_type": "markdown",
   "id": "b107ea28",
   "metadata": {},
   "source": [
    "2a) Write a loop that converts the following two lists into one dictionary like so:\n",
    "{'Ten': 10, 'Twenty': 20, 'Thirty': 30, 'Forty': 40}. Print out this dictionary at the end."
   ]
  },
  {
   "cell_type": "code",
   "execution_count": 7,
   "id": "5165ac28",
   "metadata": {},
   "outputs": [
    {
     "data": {
      "text/plain": [
       "{'Ten': 10, 'Twenty': 20, 'Thirty': 30, 'Forty': 40}"
      ]
     },
     "execution_count": 7,
     "metadata": {},
     "output_type": "execute_result"
    }
   ],
   "source": [
    "keys = ['Ten', 'Twenty', 'Thirty', 'Forty']\n",
    "values = [10, 20, 30, 40]\n",
    "\n",
    "#write your program below\n",
    "\n",
    "dictionary = {}\n",
    "\n",
    "for i,k in zip(keys,values):\n",
    "    dictionary[i] = k\n",
    "    \n",
    "dictionary"
   ]
  },
  {
   "cell_type": "code",
   "execution_count": 8,
   "id": "c05119c9",
   "metadata": {},
   "outputs": [
    {
     "name": "stdout",
     "output_type": "stream",
     "text": [
      "{'Ten': 10, 'Twenty': 20, 'Thirty': 30, 'Forty': 40}\n"
     ]
    }
   ],
   "source": [
    "keys = ['Ten', 'Twenty', 'Thirty', 'Forty']\n",
    "values = [10, 20, 30, 40]\n",
    "\n",
    "#write your program below\n",
    "\n",
    "dictionary = {}\n",
    "\n",
    "for i,k in zip(keys,values):\n",
    "    dictionary.update({i:k})\n",
    "\n",
    "print(dictionary)\n"
   ]
  },
  {
   "cell_type": "markdown",
   "id": "32ea2c82",
   "metadata": {},
   "source": [
    "2b) Now use the code above and write a function **convert_to_dict()**, that takes in 2 lists and combines them into a dictionary and returns that dictionary. <br>\n",
    "1) **INSIDE** this function, first add a check to ensure that the two lists are of equal length. If the input lists are not of equal length, you should return an empty dictionary and print a message saying \"list lengths are not the same\". <br>\n",
    "2) set this function's defaults to empty lists. Doing this should return an empty dictionary if the function is called with no arguments. "
   ]
  },
  {
   "cell_type": "code",
   "execution_count": 9,
   "id": "8e0fd180",
   "metadata": {},
   "outputs": [],
   "source": [
    "#write your function below\n",
    "def convert_to_dict(a=[],b=[]):\n",
    "    \n",
    "    dictionary = {}\n",
    "        \n",
    "    if len(a) == len(b):\n",
    "        \n",
    "        for i,k in zip(a,b):\n",
    "\n",
    "            dictionary.update({i:k})\n",
    "\n",
    "        return dictionary\n",
    "        \n",
    "    else:\n",
    "        print(f\"{dictionary}\\nlists length are not the same.\")\n"
   ]
  },
  {
   "cell_type": "markdown",
   "id": "8b3fa100",
   "metadata": {},
   "source": [
    "2c) Call the function convert_to_dict on the two lists below, and store the resulting dictionary in a variable fruit_prices. Print fruit_prices."
   ]
  },
  {
   "cell_type": "code",
   "execution_count": 10,
   "id": "38226d44",
   "metadata": {},
   "outputs": [
    {
     "data": {
      "text/plain": [
       "{'Orange': 34, 'Tomato': 5, 'Banana': 10, 'Apple': 38}"
      ]
     },
     "execution_count": 10,
     "metadata": {},
     "output_type": "execute_result"
    }
   ],
   "source": [
    "lstA = ['Orange', 'Tomato', 'Banana', 'Apple']\n",
    "lstB = [34, 5, 10, 38]\n",
    "\n",
    "#call convert_to_dict on lstA and lstB and store the result in fruit_prices\n",
    "\n",
    "fruit_price = convert_to_dict(lstA,lstB)\n",
    "fruit_price"
   ]
  },
  {
   "cell_type": "markdown",
   "id": "922c6ce9",
   "metadata": {},
   "source": [
    "2d) Call the function convert_to_dict on the two lists below"
   ]
  },
  {
   "cell_type": "code",
   "execution_count": 11,
   "id": "697f5f44",
   "metadata": {},
   "outputs": [
    {
     "name": "stdout",
     "output_type": "stream",
     "text": [
      "{}\n",
      "lists length are not the same.\n"
     ]
    }
   ],
   "source": [
    "lstC = ['Orange', 'Tomato', 'Banana', 'Apple', 'Mango', 'Watermelon']\n",
    "lstD = [34, 5, 10, 38]\n",
    "\n",
    "#call convert_to_dict on lstC and lstD\n",
    "\n",
    "convert_to_dict(lstC,lstD)"
   ]
  },
  {
   "cell_type": "markdown",
   "id": "428d1681",
   "metadata": {},
   "source": [
    "2e) Call the function convert_to_dict with no arguments"
   ]
  },
  {
   "cell_type": "code",
   "execution_count": 12,
   "id": "3a41a8cb",
   "metadata": {},
   "outputs": [
    {
     "data": {
      "text/plain": [
       "{}"
      ]
     },
     "execution_count": 12,
     "metadata": {},
     "output_type": "execute_result"
    }
   ],
   "source": [
    "#call convert_to_dict with no arguments\n",
    "convert_to_dict()"
   ]
  },
  {
   "cell_type": "markdown",
   "id": "adf6d191",
   "metadata": {},
   "source": [
    "2f) Now, convert the following two lists into a single dictionary but this time, **use dictionary comprehension.** (consult your session 5 notebook). Print out the dictionary at the end."
   ]
  },
  {
   "cell_type": "code",
   "execution_count": 13,
   "id": "fc857e39",
   "metadata": {},
   "outputs": [
    {
     "name": "stdout",
     "output_type": "stream",
     "text": [
      "{'Ten': 10, 'Twenty': 20, 'Thirty': 30, 'Forty': 40}\n"
     ]
    }
   ],
   "source": [
    "keys = ['Ten', 'Twenty', 'Thirty', 'Forty']\n",
    "values = [10, 20, 30, 40]\n",
    "\n",
    "dictionary =  {i:k for i,k in zip(keys,values)}\n",
    "\n",
    "print(dictionary)"
   ]
  },
  {
   "cell_type": "markdown",
   "id": "fd35dd87",
   "metadata": {},
   "source": [
    "### [QUESTION 3]\n",
    "\n",
    "Here is the while loop number guessing game we made in class. Change the code according to the following:\n",
    "\n",
    "1) Set an answer <br>\n",
    "2) Give the user **five** guesses <br>\n",
    "3) First msg should read \"Please enter your first guess: \" <br>\n",
    "4) At each guess, tell the user if their guess is too high or too low. your msg should read \"too high! try again: \" or \"too low! try again: \". <br>\n",
    "5) However, if the difference between the guess and answer is 3 points or less in either direction, your msg should read \"very close! go higher: \" or \"very close! go lower: \". <br>\n",
    "6) If the player loses, show \"Sorry, you lost! The answer was __\" <br>\n",
    "7) If the player wins, show \"Congratulations! You guessed it!\"\n",
    "\n",
    "\n",
    "(play it with different values of answer to test it)"
   ]
  },
  {
   "cell_type": "code",
   "execution_count": 14,
   "id": "7d3e6498",
   "metadata": {},
   "outputs": [
    {
     "name": "stdout",
     "output_type": "stream",
     "text": [
      "Please enter your first guess: \n",
      "79\n",
      "Very Close! go higher: \n",
      "81\n",
      "very close! go lower: \n",
      "34\n",
      "too low! try again: \n",
      "98\n",
      "too high! try again: \n",
      "80\n",
      "Congratulations! You guessed it!\n"
     ]
    }
   ],
   "source": [
    "#change the following game we wrote in class according to the guidelines above\n",
    "\n",
    "answer = 80\n",
    "guesses = 5\n",
    "user_input= int(input(\"Please enter your first guess: \\n\"))\n",
    "\n",
    "\n",
    "while user_input != answer:\n",
    "    \n",
    "    guesses -= 1\n",
    "    \n",
    "    if guesses == 0:\n",
    "        print(f\"Sorry, you lost! The answer was {answer}.\")\n",
    "        break\n",
    "    \n",
    "    if user_input in range(answer+1,answer+4):\n",
    "        user_input= int(input(\"very close! go lower: \\n\"))\n",
    "    \n",
    "    elif user_input in range(answer-3,answer):\n",
    "        user_input= int(input(\"Very Close! go higher: \\n\"))\n",
    "    \n",
    "    elif user_input < answer:\n",
    "        user_input= int(input(\"too low! try again: \\n\"))\n",
    "    \n",
    "    else:\n",
    "        user_input= int(input(\"too high! try again: \\n\"))        \n",
    "    \n",
    "else:\n",
    "    \n",
    "    print(\"Congratulations! You guessed it!\")"
   ]
  },
  {
   "cell_type": "markdown",
   "id": "e922841f",
   "metadata": {},
   "source": [
    "### [QUESTION 4]\n",
    "\n",
    "4a) Design a function called **case_check()**. this function should take a string as an input and return a dictionary giving the count of uppercase and lowercase letters in the string. for example:\n",
    "\n",
    "case_check(\"I aM goInG OuT!\") should return {'Upper': 6, 'Lower': 5}\n"
   ]
  },
  {
   "cell_type": "code",
   "execution_count": 15,
   "id": "9781af3b",
   "metadata": {},
   "outputs": [],
   "source": [
    "#write your function below\n",
    "def case_check(a):\n",
    "    lower_count = 0\n",
    "    upper_count = 0\n",
    "\n",
    "    for i in a:\n",
    "\n",
    "        if i.isupper():\n",
    "            upper_count += 1\n",
    "\n",
    "        elif i.islower():\n",
    "            lower_count += 1\n",
    "        else:\n",
    "            pass\n",
    "\n",
    "    dictionary = {'Upper':upper_count,\n",
    "                'lower': lower_count}\n",
    "\n",
    "    return dictionary"
   ]
  },
  {
   "cell_type": "markdown",
   "id": "3c01612e",
   "metadata": {},
   "source": [
    "4b) Test case_check on the following strings and print out the result of each string. No need to store in variables. "
   ]
  },
  {
   "cell_type": "code",
   "execution_count": 16,
   "id": "5f89ccd0",
   "metadata": {},
   "outputs": [
    {
     "name": "stdout",
     "output_type": "stream",
     "text": [
      "{'Upper': 9, 'lower': 9}\n",
      "{'Upper': 3, 'lower': 2}\n",
      "{'Upper': 9, 'lower': 12}\n"
     ]
    }
   ],
   "source": [
    "string1 = 'tHIs IS a PytHoN cLAss!'\n",
    "string2 = 'Ab%4DcP432'\n",
    "string3 = 'HellO! WhAt cAn I do FoR yOu?'\n",
    "\n",
    "\n",
    "#below, call case_check on each of the above strings\n",
    "print(case_check(string1))\n",
    "print(case_check(string2))\n",
    "print(case_check(string3))"
   ]
  },
  {
   "cell_type": "markdown",
   "id": "86072b01",
   "metadata": {},
   "source": [
    "### [QUESTION 5]\n",
    "\n",
    "5a) Design a function called **square()** that takes in any number of integers as arguments and **prints** out the square of each argument. You should be able to flexibly give this function any number of arguments. for example\n",
    "\n",
    "square(1,7,-4,2) should print the following:\n",
    "\n",
    "square of 1 is 1 <br>\n",
    "square of 7 is 49 <br>\n",
    "square of -4 is 16 <br>\n",
    "square of 2 is 4 <br>"
   ]
  },
  {
   "cell_type": "code",
   "execution_count": 17,
   "id": "53e27a5a",
   "metadata": {},
   "outputs": [],
   "source": [
    "## write your function below\n",
    "def square(*number):\n",
    "    for i in number:\n",
    "        print(f\"square of {i} is {i**2}.\")"
   ]
  },
  {
   "cell_type": "markdown",
   "id": "7fdafa37",
   "metadata": {},
   "source": [
    "5b) Test your function with the following calls:"
   ]
  },
  {
   "cell_type": "code",
   "execution_count": 18,
   "id": "4c58f7ba",
   "metadata": {},
   "outputs": [
    {
     "name": "stdout",
     "output_type": "stream",
     "text": [
      "square of 1 is 1.\n",
      "square of 7 is 49.\n",
      "square of -4 is 16.\n",
      "square of 2 is 4.\n",
      "\n",
      "\n",
      "square of 10 is 100.\n",
      "square of -9 is 81.\n",
      "square of 0 is 0.\n",
      "\n",
      "\n",
      "square of 2 is 4.\n",
      "square of 3 is 9.\n",
      "\n",
      "\n",
      "\n",
      "\n"
     ]
    }
   ],
   "source": [
    "square(1, 7, -4, 2)\n",
    "print(\"\\n\")\n",
    "\n",
    "square(10, -9, 0)\n",
    "print(\"\\n\")\n",
    "\n",
    "square(2,3)\n",
    "print(\"\\n\")\n",
    "\n",
    "square()\n",
    "print(\"\\n\")\n"
   ]
  },
  {
   "cell_type": "markdown",
   "id": "ae02c11f",
   "metadata": {},
   "source": [
    "### [Question 6]\n",
    "\n",
    "Using a lambda function with map, return a list that contains areas of circles with the following radii (use 3.14 for pi). Print out the areas list. \n",
    "\n",
    "Remember: you will need to give map a lambda function and a list to apply the lambda function to. Also, to get a list instead of a map object, you need to put map inside the list function.\n",
    "\n",
    "list(map(**your lambda function**, **your list**))"
   ]
  },
  {
   "cell_type": "code",
   "execution_count": 19,
   "id": "cd6bdb53",
   "metadata": {},
   "outputs": [
    {
     "name": "stdout",
     "output_type": "stream",
     "text": [
      "[28.26, 78.5, 113.04, 314.0]\n"
     ]
    }
   ],
   "source": [
    "radii = [3, 5, 6, 10]\n",
    "\n",
    "areas = list(map(lambda a: 3.14 * a ** 2,radii))\n",
    "\n",
    "#print out areas below\n",
    "\n",
    "print(areas)"
   ]
  },
  {
   "cell_type": "markdown",
   "id": "f748baa8",
   "metadata": {},
   "source": [
    "### [Question 7]\n",
    "\n",
    "In a single line of code, print **the number of** unique elements in the following list"
   ]
  },
  {
   "cell_type": "code",
   "execution_count": 20,
   "id": "740b27fe",
   "metadata": {},
   "outputs": [
    {
     "name": "stdout",
     "output_type": "stream",
     "text": [
      "The number of unique elements in the list is 10.\n"
     ]
    }
   ],
   "source": [
    "my_lst = [7, \"a\", \"c\", -4, \"g\", 9, -4, 10, 7, \"a\", 11, \"g\", \"g\", 20, -3, -4]\n",
    "\n",
    "\n",
    "#write your single line of code below\n",
    "print(f\"The number of unique elements in the list is {len(set(my_lst))}.\")\n"
   ]
  },
  {
   "cell_type": "code",
   "execution_count": null,
   "id": "6d269e97",
   "metadata": {},
   "outputs": [],
   "source": []
  }
 ],
 "metadata": {
  "kernelspec": {
   "display_name": "Python 3 (ipykernel)",
   "language": "python",
   "name": "python3"
  },
  "language_info": {
   "codemirror_mode": {
    "name": "ipython",
    "version": 3
   },
   "file_extension": ".py",
   "mimetype": "text/x-python",
   "name": "python",
   "nbconvert_exporter": "python",
   "pygments_lexer": "ipython3",
   "version": "3.11.4"
  }
 },
 "nbformat": 4,
 "nbformat_minor": 5
}
