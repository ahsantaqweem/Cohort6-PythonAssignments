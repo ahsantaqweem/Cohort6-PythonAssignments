{
 "cells": [
  {
   "cell_type": "markdown",
   "id": "33956be4",
   "metadata": {},
   "source": [
    "#### [Question1] \n",
    "\n",
    "a) Create a string variable called my_str containing the following sentence: Python programming is fun and powerful! <br>\n",
    "b) Find the length of my_str. <br>\n",
    "c) Replace \"fun\" in my_str with \"exciting.\" Store this back in my_str and print my_str <br>\n",
    "d) Find the index of the word powerful in my_str <br>\n",
    "e) Split the string into a list of words (google which function can help you do this). Store this in my_str_to_list and print it"
   ]
  },
  {
   "cell_type": "code",
   "execution_count": 2,
   "id": "4dfe59e8",
   "metadata": {},
   "outputs": [],
   "source": [
    "# create my_str below\n",
    "\n",
    "my_str = \"Python programming is fun and powerful!\""
   ]
  },
  {
   "cell_type": "code",
   "execution_count": 3,
   "id": "33b969da",
   "metadata": {},
   "outputs": [
    {
     "data": {
      "text/plain": [
       "39"
      ]
     },
     "execution_count": 3,
     "metadata": {},
     "output_type": "execute_result"
    }
   ],
   "source": [
    "# find out the length of my_str. no need to store this anywhere\n",
    "\n",
    "len(my_str)"
   ]
  },
  {
   "cell_type": "code",
   "execution_count": 4,
   "id": "b45d1a3b",
   "metadata": {},
   "outputs": [
    {
     "data": {
      "text/plain": [
       "'Python programming is exciting and powerful!'"
      ]
     },
     "execution_count": 4,
     "metadata": {},
     "output_type": "execute_result"
    }
   ],
   "source": [
    "# update my_str so it has the word exciting instead of fun. print my_str at the end\n",
    "\n",
    "my_str = my_str.replace(\"fun\",\"exciting\")\n",
    "my_str"
   ]
  },
  {
   "cell_type": "code",
   "execution_count": 5,
   "id": "4c67c03c",
   "metadata": {},
   "outputs": [
    {
     "data": {
      "text/plain": [
       "35"
      ]
     },
     "execution_count": 5,
     "metadata": {},
     "output_type": "execute_result"
    }
   ],
   "source": [
    "# find the index of the word powerful in my_str\n",
    "\n",
    "my_str.index(\"powerful\")\n"
   ]
  },
  {
   "cell_type": "code",
   "execution_count": 6,
   "id": "d037afe6",
   "metadata": {},
   "outputs": [
    {
     "data": {
      "text/plain": [
       "35"
      ]
     },
     "execution_count": 6,
     "metadata": {},
     "output_type": "execute_result"
    }
   ],
   "source": [
    "my_str.find(\"powerful\")"
   ]
  },
  {
   "cell_type": "code",
   "execution_count": 7,
   "id": "bdfffa17",
   "metadata": {},
   "outputs": [
    {
     "name": "stdout",
     "output_type": "stream",
     "text": [
      "['Python', 'programming', 'is', 'exciting', 'and', 'powerful!']\n"
     ]
    }
   ],
   "source": [
    "# create my_str_to_list and store my_str split into a list of words in this. print my_str_to_list\n",
    "\n",
    "my_str_to_list = my_str.split()\n",
    "print(my_str_to_list)"
   ]
  },
  {
   "cell_type": "markdown",
   "id": "2235471f",
   "metadata": {},
   "source": [
    "#### [Question2]\n",
    "Given a variable called Celsius with the value 108.6, convert it to Fahrenheit. Google the formula for celcius to fahrenheit conversion. Print out Fahrenheit. "
   ]
  },
  {
   "cell_type": "code",
   "execution_count": 8,
   "id": "3364767a",
   "metadata": {},
   "outputs": [
    {
     "data": {
      "text/plain": [
       "227.48"
      ]
     },
     "execution_count": 8,
     "metadata": {},
     "output_type": "execute_result"
    }
   ],
   "source": [
    "Celsius = 108.6\n",
    "\n",
    "Fahrenheit =  (9/5*Celsius)+32\n",
    "\n",
    "\n",
    "#print out Fahrenheit below\n",
    "Fahrenheit\n"
   ]
  },
  {
   "cell_type": "markdown",
   "id": "f7069988",
   "metadata": {},
   "source": [
    "#### [Question3]\n",
    "\n",
    "A university wants to write a program that will help them decide the eligibility of each applicant. The conditions are: \n",
    "- all admits must be 18 or older in age\n",
    "- if their GPA is 3.0 or above, they are eligible. If their GPA is 2.8 or above, they are eligible based on a performance test. Otherwise they are not eligible. \n",
    "\n",
    "\n",
    "Given the three lists names, ages and GPA:\n",
    "\n",
    "Write a for loop that will print out the following three things in each iteration:\n",
    "\n",
    "- Student (insert name) has age (insert age) and GPA (insert GPA)\n",
    "- Eligible for admission/ Eligible for admission based on performance test/ Not eligible for admission\n",
    "- New line\n",
    "\n",
    "example:\n",
    "\n",
    "Student Hassan Ali has age 19 and GPA 3.0 <br>\n",
    "Eligible for admission"
   ]
  },
  {
   "cell_type": "code",
   "execution_count": 9,
   "id": "63fdc46d",
   "metadata": {},
   "outputs": [
    {
     "name": "stdout",
     "output_type": "stream",
     "text": [
      "Student Hassan Ali has age 19 and GPA 3.0 \n",
      "Eligable for admission. \n",
      "\n",
      "Student Rabbiya Sarmad has age 17 \n",
      "Not eligible for admission \n",
      "\n",
      "Student Zara Haq has age 15 \n",
      "Not eligible for admission \n",
      "\n",
      "Student Hussain Rafay has age 21 and GPA 3.1 \n",
      "Eligable for admission. \n",
      "\n",
      "Student Dua Hamid has age 18 and GPA 2.9 \n",
      "Eligable for admission based on test performance. \n",
      "\n"
     ]
    }
   ],
   "source": [
    "names = ['Hassan Ali', 'Rabbiya Sarmad', 'Zara Haq', 'Hussain Rafay', 'Dua Hamid']\n",
    "ages = [19, 17, 15, 21, 18, 20]\n",
    "GPA = [3.0, 3.9, 2.5, 3.1, 2.9]\n",
    "\n",
    "# Write your for loop below:\n",
    "for name,age,gpa in zip(names, ages, GPA):\n",
    "    if age >= 18:\n",
    "        if gpa >= 3:\n",
    "            print(f\"Student {name} has age {age} and GPA {gpa}\",'\\n' \"Eligable for admission.\",'\\n')\n",
    "        elif gpa >= 2.8:\n",
    "            print(f\"Student {name} has age {age} and GPA {gpa}\",'\\n' \"Eligable for admission based on test performance.\",'\\n')\n",
    "        else:\n",
    "            print(f\"Student {name} has age {age} and GPA {gpa}\",'\\n' \"Not eligable for admission.\",'\\n')\n",
    "    else:\n",
    "        print(f\"Student {name} has age {age}\", '\\n' \"Not eligible for admission\",'\\n')"
   ]
  },
  {
   "cell_type": "code",
   "execution_count": 10,
   "id": "42985c40",
   "metadata": {},
   "outputs": [
    {
     "name": "stdout",
     "output_type": "stream",
     "text": [
      "Student Hassan Ali has age 19 and GPA 3.0 \n",
      "Eligable for admission. \n",
      "\n",
      "Student Rabbiya Sarmad has age 17 \n",
      "Not eligible for admission \n",
      "\n",
      "Student Zara Haq has age 15 \n",
      "Not eligible for admission \n",
      "\n",
      "Student Hussain Rafay has age 21 and GPA 3.1 \n",
      "Eligable for admission. \n",
      "\n",
      "Student Dua Hamid has age 18 and GPA 2.9 \n",
      "Eligable for admission based on test performance. \n",
      "\n"
     ]
    }
   ],
   "source": [
    "names = ['Hassan Ali', 'Rabbiya Sarmad', 'Zara Haq', 'Hussain Rafay', 'Dua Hamid']\n",
    "ages = [19, 17, 15, 21, 18, 20]\n",
    "GPA = [3.0, 3.9, 2.5, 3.1, 2.9]\n",
    "\n",
    "# Write your for loop below:\n",
    "for i in zip(names, ages, GPA):\n",
    "    if i[1]  >= 18:\n",
    "        if i[2] >= 3:\n",
    "            print(f\"Student {i[0]} has age {i[1]} and GPA {i[2]}\",'\\n' \"Eligable for admission.\",'\\n')\n",
    "        elif i[2] >= 2.8:\n",
    "            print(f\"Student {i[0]} has age {i[1]} and GPA {i[2]}\",'\\n' \"Eligable for admission based on test performance.\",'\\n')\n",
    "        else:\n",
    "            print(f\"Student {i[0]} has age {i[1]} and GPA {i[2]}\",'\\n' \"Not eligable for admission.\",'\\n')\n",
    "    else:\n",
    "        print(f\"Student {i[0]} has age {i[1]}\", '\\n' \"Not eligible for admission\",'\\n')\n",
    "            \n",
    "      \n",
    "        "
   ]
  },
  {
   "cell_type": "markdown",
   "id": "893405b9",
   "metadata": {},
   "source": [
    "#### [Question 4]\n",
    "\n",
    "Given the following list called numbers:\n",
    "\n",
    "a) Convert it into a tuple and print it. <br>\n",
    "b) Calculate the sum of this tuple. Store it in sum_numbers. print sum_numbers <br>\n",
    "c) Using slicing, fetch every odd indexed element from numbers <br>\n",
    "d) Create new **lists** called evens and odds. Using ONE for loop, add every even integer from the numbers tuple to evens and every odd number to odds. in the end, print numbers, evens and odds. <br>\n",
    "e) Would it be possible to do this if evens and odds were tuples instead of lists?"
   ]
  },
  {
   "cell_type": "code",
   "execution_count": 11,
   "id": "f0e87e0d",
   "metadata": {},
   "outputs": [
    {
     "data": {
      "text/plain": [
       "(12, 34, 45, 67, 89, 100, 23, 56)"
      ]
     },
     "execution_count": 11,
     "metadata": {},
     "output_type": "execute_result"
    }
   ],
   "source": [
    "numbers =  [12, 34, 45, 67, 89, 100, 23, 56]\n",
    "\n",
    "#convert numbers into a tuple below and print numbers\n",
    "numbers = tuple(numbers)\n",
    "\n",
    "numbers"
   ]
  },
  {
   "cell_type": "code",
   "execution_count": 13,
   "id": "64d55219",
   "metadata": {},
   "outputs": [
    {
     "data": {
      "text/plain": [
       "426"
      ]
     },
     "execution_count": 13,
     "metadata": {},
     "output_type": "execute_result"
    }
   ],
   "source": [
    "sum_numbers = sum(numbers)\n",
    "sum_numbers"
   ]
  },
  {
   "cell_type": "code",
   "execution_count": 12,
   "id": "a41a80cb",
   "metadata": {},
   "outputs": [
    {
     "data": {
      "text/plain": [
       "426"
      ]
     },
     "execution_count": 12,
     "metadata": {},
     "output_type": "execute_result"
    }
   ],
   "source": [
    "# create sum_numbers and store the sum of numbers in it. print sum_numbers\n",
    "sum_numbers = 0\n",
    "\n",
    "for num in numbers:\n",
    "    sum_numbers += num\n",
    "\n",
    "sum_numbers"
   ]
  },
  {
   "cell_type": "code",
   "execution_count": 8,
   "id": "9cb887a4",
   "metadata": {},
   "outputs": [
    {
     "data": {
      "text/plain": [
       "(34, 67, 100, 56)"
      ]
     },
     "execution_count": 8,
     "metadata": {},
     "output_type": "execute_result"
    }
   ],
   "source": [
    "# fetch every odd indexed element from numbers below. No need to store this anywhere, just show output\n",
    "numbers[1::2]"
   ]
  },
  {
   "cell_type": "code",
   "execution_count": 44,
   "id": "5908766a",
   "metadata": {},
   "outputs": [
    {
     "name": "stdout",
     "output_type": "stream",
     "text": [
      "1: 34\n",
      "3: 67\n",
      "5: 100\n",
      "7: 56\n"
     ]
    }
   ],
   "source": [
    "# fetch every odd indexed element from numbers below. No need to store this anywhere, just show output\n",
    "\n",
    "for num in range(1,len(numbers),2):\n",
    "    print(f\"{num}: {numbers[num]}\")"
   ]
  },
  {
   "cell_type": "code",
   "execution_count": 31,
   "id": "027c59f5",
   "metadata": {},
   "outputs": [
    {
     "name": "stdout",
     "output_type": "stream",
     "text": [
      "Numbers: (12, 34, 45, 67, 89, 100, 23, 56)\n",
      "Odds: [45, 67, 89, 23]\n",
      "Evens:[12, 34, 100, 56]\n"
     ]
    }
   ],
   "source": [
    "# create empty lists called evens and odds below:\n",
    "evens = []\n",
    "odds = []\n",
    "\n",
    "\n",
    "# write a single for loop to add integers from the numbers tuple to evens and odds lists below:\n",
    "\n",
    "for num in numbers:\n",
    "    if num%2==0:\n",
    "        evens.append(num)\n",
    "    else:\n",
    "        odds.append(num)\n",
    "\n",
    "\n",
    "# print out numbers, evens and odd below\n",
    "\n",
    "print(f\"Numbers: {numbers}\\nOdds: {odds}\\nEvens:{evens}\")\n"
   ]
  },
  {
   "cell_type": "code",
   "execution_count": null,
   "id": "4f801920",
   "metadata": {},
   "outputs": [],
   "source": [
    "# comment if the above would be possible to do if evens and odds were tuples instead of lists?\n",
    "# It wont be possible because tuples are immutable and has no methods like append() or extend().\n"
   ]
  },
  {
   "cell_type": "markdown",
   "id": "b0bf88d8",
   "metadata": {},
   "source": [
    "#### [Question 5]\n",
    "\n",
    "a) Create a list called fruits containing the following fruits: apple, banana, orange, grape, kiwi, mango <br>\n",
    "b) Using a for loop, update every single item in fruits so that the first letter is capitalized. Print fruits at the end"
   ]
  },
  {
   "cell_type": "code",
   "execution_count": 4,
   "id": "0d1aed0e",
   "metadata": {},
   "outputs": [
    {
     "data": {
      "text/plain": [
       "['Apple', 'Banana', 'Orange', 'Grape', 'Kiwi', 'Mango']"
      ]
     },
     "execution_count": 4,
     "metadata": {},
     "output_type": "execute_result"
    }
   ],
   "source": [
    "# create fruits below\n",
    "fruits = ['apple', 'banana', 'orange', 'grape', 'kiwi', 'mango']\n",
    "\n",
    "\n",
    "# write a for loop to capitalize every element in fruits below\n",
    "for fruit in range(len(fruits)):\n",
    "    fruits[fruit] = fruits[fruit].capitalize()\n",
    "\n",
    "\n",
    "#print updated fruits below\n",
    "fruits\n"
   ]
  },
  {
   "cell_type": "markdown",
   "id": "57fe7528",
   "metadata": {},
   "source": [
    "#### [Question 6]\n",
    "\n",
    "a) Create a dictionary named \"capitals\" with three key-value pairs: \"USA\" - \"Washington DC\", \"France\" - \"Paris\",  and \"Japan\" - \"Tokyo\". Print the dictionary. <br>\n",
    "b) Add a new country and its capital to the \"capitals\" dictionary. The country is \"Germany\" and the capital is \"Berlin\". Print the updated dictionary. <br>\n",
    "c) Check if \"France\" exists in the \"capitals\" dictionary. If it does, print \"France is in the dictionary\" otherwise, print \"France is not in the dictionary\" (hint: you will need to use the keyword in)"
   ]
  },
  {
   "cell_type": "code",
   "execution_count": 15,
   "id": "fe365bbe",
   "metadata": {},
   "outputs": [
    {
     "data": {
      "text/plain": [
       "{'USA': 'Washington DC', 'France': 'Paris', 'Japan': 'Tokyo'}"
      ]
     },
     "execution_count": 15,
     "metadata": {},
     "output_type": "execute_result"
    }
   ],
   "source": [
    "# create the dictionary capitals below with its key:value pairs and print it\n",
    "capitals = {\n",
    "    \"USA\" : \"Washington DC\", \n",
    "    \"France\" : \"Paris\", \n",
    "    \"Japan\" : \"Tokyo\"\n",
    "}\n",
    "capitals"
   ]
  },
  {
   "cell_type": "code",
   "execution_count": 16,
   "id": "72f597f1",
   "metadata": {},
   "outputs": [
    {
     "data": {
      "text/plain": [
       "{'USA': 'Washington DC',\n",
       " 'France': 'Paris',\n",
       " 'Japan': 'Tokyo',\n",
       " 'Germany': 'Berlin'}"
      ]
     },
     "execution_count": 16,
     "metadata": {},
     "output_type": "execute_result"
    }
   ],
   "source": [
    "# add germany to capitals below and print updated dictionary\n",
    "capitals['Germany'] = 'Berlin'\n",
    "capitals"
   ]
  },
  {
   "cell_type": "code",
   "execution_count": 17,
   "id": "d219c2ce",
   "metadata": {},
   "outputs": [
    {
     "data": {
      "text/plain": [
       "{'USA': 'Washington DC',\n",
       " 'France': 'Paris',\n",
       " 'Japan': 'Tokyo',\n",
       " 'Germany': 'Berlin'}"
      ]
     },
     "execution_count": 17,
     "metadata": {},
     "output_type": "execute_result"
    }
   ],
   "source": [
    "# add germany to capitals below and print updated dictionary\n",
    "capitals.update({'Germany':'Berlin'})\n",
    "capitals"
   ]
  },
  {
   "cell_type": "code",
   "execution_count": 18,
   "id": "20faf441",
   "metadata": {},
   "outputs": [
    {
     "name": "stdout",
     "output_type": "stream",
     "text": [
      "France is in the dictionary.\n"
     ]
    }
   ],
   "source": [
    "if 'France' in capitals:\n",
    "    print('France is in the dictionary.')\n",
    "else:\n",
    "    print('France is not in the dictionary.')\n",
    "    "
   ]
  }
 ],
 "metadata": {
  "kernelspec": {
   "display_name": "Python 3 (ipykernel)",
   "language": "python",
   "name": "python3"
  },
  "language_info": {
   "codemirror_mode": {
    "name": "ipython",
    "version": 3
   },
   "file_extension": ".py",
   "mimetype": "text/x-python",
   "name": "python",
   "nbconvert_exporter": "python",
   "pygments_lexer": "ipython3",
   "version": "3.11.4"
  }
 },
 "nbformat": 4,
 "nbformat_minor": 5
}
